{
  "nbformat": 4,
  "nbformat_minor": 0,
  "metadata": {
    "colab": {
      "provenance": []
    },
    "kernelspec": {
      "name": "python3",
      "display_name": "Python 3"
    },
    "language_info": {
      "name": "python"
    }
  },
  "cells": [
    {
      "cell_type": "code",
      "execution_count": 1,
      "metadata": {
        "id": "cUi3_ATiBHOo"
      },
      "outputs": [],
      "source": [
        "#Q1. How can you create a Bokeh plot using Python code?"
      ]
    },
    {
      "cell_type": "code",
      "source": [
        "#Bokeh is a data visualization library in Python that provides high-performance interactive charts and plots. Bokeh output can be obtained in various mediums like notebook, html and server. It is possible to embed bokeh plots in Django and flask apps.\n"
      ],
      "metadata": {
        "id": "JX16TNfYBNgb"
      },
      "execution_count": 2,
      "outputs": []
    },
    {
      "cell_type": "code",
      "source": [
        "#Q2. What are glyphs in Bokeh, and how can you add them to a Bokeh plot? Explain with an example."
      ],
      "metadata": {
        "id": "agCwTraRCDFP"
      },
      "execution_count": 3,
      "outputs": []
    },
    {
      "cell_type": "code",
      "source": [
        "#Display a variety of visual shapes whose attributes can be associated with data columns from ColumnDataSources\n"
      ],
      "metadata": {
        "id": "XooXCvy_CRv_"
      },
      "execution_count": 4,
      "outputs": []
    },
    {
      "cell_type": "code",
      "source": [
        "# import the libraries\n",
        "from bokeh.plotting import figure, show, output_file\n",
        "\n",
        "# prepare some data\n",
        "a = [1, 2, 3, 4, 5, 6, 7, 8, 9, 10]\n",
        "b = [2, 4, 6, 8, 10, 12, 14, 16, 18, 20]\n",
        "\n",
        "# create a plot using figure\n",
        "my_plot = figure(title=\"simple line chart\", x_axis_label=\"X-Axis\",\n",
        "\t\t\t\ty_axis_label=\"Y-Axis\")\n",
        "\n",
        "# adding line graph\n",
        "my_plot.line(a, b, line_width=3)\n",
        "\n",
        "# display output in file\n",
        "output_file(\"line.html\")\n",
        "\n",
        "# show the result\n",
        "show(my_plot)\n"
      ],
      "metadata": {
        "id": "MZWuhYbCDNv2"
      },
      "execution_count": null,
      "outputs": []
    },
    {
      "cell_type": "code",
      "source": [
        "#Q3. How can you customize the appearance of a Bokeh plot, including the axes, title, and legend?"
      ],
      "metadata": {
        "id": "S9nb6FrqDYPK"
      },
      "execution_count": 5,
      "outputs": []
    },
    {
      "cell_type": "code",
      "source": [
        "#With Bokeh's themes, you can quickly change the appearance of your plot. Themes are a set of pre-defined design parameters such as colors, fonts, or line styles. Bokeh comes with five built-in themes: caliber , dark_minimal , light_minimal , night_sky , and contrast"
      ],
      "metadata": {
        "id": "V0QWtfLIDd31"
      },
      "execution_count": 6,
      "outputs": []
    },
    {
      "cell_type": "code",
      "source": [
        "#Q5. How can you embed a Bokeh plot into a web page or dashboard using Flask or Django?"
      ],
      "metadata": {
        "id": "CVzojujlD0QQ"
      },
      "execution_count": 7,
      "outputs": []
    },
    {
      "cell_type": "code",
      "source": [],
      "metadata": {
        "id": "iJIOdf96D6Nv"
      },
      "execution_count": null,
      "outputs": []
    }
  ]
}